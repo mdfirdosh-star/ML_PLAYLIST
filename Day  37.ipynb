{
 "cells": [
  {
   "cell_type": "code",
   "execution_count": 1,
   "id": "54f4a259-b51e-41c1-a8a1-505d64e6b45e",
   "metadata": {},
   "outputs": [],
   "source": [
    " # topic:fill the categrocial data in missing value replace the value missing"
   ]
  },
  {
   "cell_type": "code",
   "execution_count": 2,
   "id": "672a83d8-535f-4dfa-90db-bdf34fba25b7",
   "metadata": {},
   "outputs": [],
   "source": [
    "import pandas as pd \n",
    "import numpy as np"
   ]
  },
  {
   "cell_type": "code",
   "execution_count": 3,
   "id": "fa3efeaa-53c5-4691-bce9-c88d40345bc3",
   "metadata": {},
   "outputs": [],
   "source": [
    "data=pd.read_csv(r\"C:\\Users\\mdfir\\Downloads\\train (1).csv\",usecols=['GarageQual','FireplaceQu','SalePrice'])"
   ]
  },
  {
   "cell_type": "code",
   "execution_count": 4,
   "id": "f7b2e390-5b75-4205-8292-0d57eba1c469",
   "metadata": {},
   "outputs": [
    {
     "data": {
      "text/html": [
       "<div>\n",
       "<style scoped>\n",
       "    .dataframe tbody tr th:only-of-type {\n",
       "        vertical-align: middle;\n",
       "    }\n",
       "\n",
       "    .dataframe tbody tr th {\n",
       "        vertical-align: top;\n",
       "    }\n",
       "\n",
       "    .dataframe thead th {\n",
       "        text-align: right;\n",
       "    }\n",
       "</style>\n",
       "<table border=\"1\" class=\"dataframe\">\n",
       "  <thead>\n",
       "    <tr style=\"text-align: right;\">\n",
       "      <th></th>\n",
       "      <th>FireplaceQu</th>\n",
       "      <th>GarageQual</th>\n",
       "      <th>SalePrice</th>\n",
       "    </tr>\n",
       "  </thead>\n",
       "  <tbody>\n",
       "    <tr>\n",
       "      <th>0</th>\n",
       "      <td>NaN</td>\n",
       "      <td>TA</td>\n",
       "      <td>208500</td>\n",
       "    </tr>\n",
       "    <tr>\n",
       "      <th>1</th>\n",
       "      <td>TA</td>\n",
       "      <td>TA</td>\n",
       "      <td>181500</td>\n",
       "    </tr>\n",
       "    <tr>\n",
       "      <th>2</th>\n",
       "      <td>TA</td>\n",
       "      <td>TA</td>\n",
       "      <td>223500</td>\n",
       "    </tr>\n",
       "    <tr>\n",
       "      <th>3</th>\n",
       "      <td>Gd</td>\n",
       "      <td>TA</td>\n",
       "      <td>140000</td>\n",
       "    </tr>\n",
       "    <tr>\n",
       "      <th>4</th>\n",
       "      <td>TA</td>\n",
       "      <td>TA</td>\n",
       "      <td>250000</td>\n",
       "    </tr>\n",
       "  </tbody>\n",
       "</table>\n",
       "</div>"
      ],
      "text/plain": [
       "  FireplaceQu GarageQual  SalePrice\n",
       "0         NaN         TA     208500\n",
       "1          TA         TA     181500\n",
       "2          TA         TA     223500\n",
       "3          Gd         TA     140000\n",
       "4          TA         TA     250000"
      ]
     },
     "execution_count": 4,
     "metadata": {},
     "output_type": "execute_result"
    }
   ],
   "source": [
    "data.head()"
   ]
  },
  {
   "cell_type": "code",
   "execution_count": 5,
   "id": "49784cbd-b764-4159-bed1-217902546b2e",
   "metadata": {},
   "outputs": [],
   "source": [
    "# replace the missing value of missing  "
   ]
  },
  {
   "cell_type": "code",
   "execution_count": 6,
   "id": "33606b9f-21fd-4f23-b852-5aa0f4ba7e7b",
   "metadata": {},
   "outputs": [
    {
     "data": {
      "text/plain": [
       "FireplaceQu    690\n",
       "GarageQual      81\n",
       "SalePrice        0\n",
       "dtype: int64"
      ]
     },
     "execution_count": 6,
     "metadata": {},
     "output_type": "execute_result"
    }
   ],
   "source": [
    "data.isnull().sum()"
   ]
  },
  {
   "cell_type": "code",
   "execution_count": 23,
   "id": "3c8fb070-3639-46cb-bd06-9ca7322c32fc",
   "metadata": {},
   "outputs": [],
   "source": [
    "new_data=data[\"FireplaceQu\"].fillna(\"missing\")"
   ]
  },
  {
   "cell_type": "code",
   "execution_count": 40,
   "id": "1ea1a50d-4398-43e3-ad40-3cb199816797",
   "metadata": {},
   "outputs": [
    {
     "data": {
      "text/plain": [
       "0"
      ]
     },
     "execution_count": 40,
     "metadata": {},
     "output_type": "execute_result"
    }
   ],
   "source": [
    "new_data.isnull().sum()"
   ]
  },
  {
   "cell_type": "code",
   "execution_count": 25,
   "id": "5cf3f3e2-f7b8-49a1-a45c-29276aab4fd8",
   "metadata": {},
   "outputs": [],
   "source": [
    "new_data_1=data[\"GarageQual\"].fillna(\"missing\")"
   ]
  },
  {
   "cell_type": "code",
   "execution_count": 42,
   "id": "93219081-0055-4085-8b21-bbd7cdf4a077",
   "metadata": {},
   "outputs": [
    {
     "data": {
      "text/plain": [
       "0"
      ]
     },
     "execution_count": 42,
     "metadata": {},
     "output_type": "execute_result"
    }
   ],
   "source": [
    "new_data_1.isnull().sum()"
   ]
  },
  {
   "cell_type": "code",
   "execution_count": 27,
   "id": "9f4587d3-9595-4c25-9e42-206dfd76069d",
   "metadata": {},
   "outputs": [
    {
     "data": {
      "text/plain": [
       "FireplaceQu    690\n",
       "GarageQual      81\n",
       "SalePrice        0\n",
       "dtype: int64"
      ]
     },
     "execution_count": 27,
     "metadata": {},
     "output_type": "execute_result"
    }
   ],
   "source": [
    "data.isnull().sum()"
   ]
  },
  {
   "cell_type": "code",
   "execution_count": 29,
   "id": "fe2934c0-38c3-430d-909c-8bb902b83e27",
   "metadata": {},
   "outputs": [
    {
     "data": {
      "text/plain": [
       "GarageQual\n",
       "TA    1311\n",
       "Fa      48\n",
       "Gd      14\n",
       "Ex       3\n",
       "Po       3\n",
       "Name: count, dtype: int64"
      ]
     },
     "execution_count": 29,
     "metadata": {},
     "output_type": "execute_result"
    }
   ],
   "source": [
    "data[\"GarageQual\"].value_counts()"
   ]
  },
  {
   "cell_type": "markdown",
   "id": "bd500529-c8c0-4483-98d9-f4cecac331c6",
   "metadata": {},
   "source": [
    "# use sklearn model  "
   ]
  },
  {
   "cell_type": "code",
   "execution_count": 44,
   "id": "06bf182d-8c61-40b9-bc3d-d7f612707feb",
   "metadata": {},
   "outputs": [],
   "source": [
    "x=data.iloc[:,0:2]\n",
    "y=data.iloc[:,-1]"
   ]
  },
  {
   "cell_type": "code",
   "execution_count": 50,
   "id": "7107bf22-6e5f-4453-8002-2d89afd1b6c4",
   "metadata": {},
   "outputs": [],
   "source": [
    "from sklearn.model_selection import train_test_split\n",
    "import seaborn as sns \n",
    "from sklearn .impute import SimpleImputer"
   ]
  },
  {
   "cell_type": "code",
   "execution_count": 48,
   "id": "dee3b05c-fc63-4c14-b8b9-edd9b489f82a",
   "metadata": {},
   "outputs": [],
   "source": [
    "x_train,x_test,y_train,y_test=train_test_split(x,y,test_size=.2,random_state=42)"
   ]
  },
  {
   "cell_type": "code",
   "execution_count": 52,
   "id": "fe0f443d-e11a-470c-9a51-831911202c0a",
   "metadata": {},
   "outputs": [],
   "source": [
    "s=SimpleImputer(strategy=\"constant\",fill_value=\"missing\")"
   ]
  },
  {
   "cell_type": "code",
   "execution_count": 60,
   "id": "f114f218-a2a8-4a36-b6a9-aebbc982995d",
   "metadata": {},
   "outputs": [],
   "source": [
    "x_train_s=s.fit_transform(x_train)\n",
    "x_test_s=s.transform(x_test)"
   ]
  },
  {
   "cell_type": "code",
   "execution_count": 68,
   "id": "a4d49a87-7f38-44d0-9ce3-9fd29720b7c0",
   "metadata": {},
   "outputs": [],
   "source": [
    "new_data_3=pd.DataFrame(x_train_s)\n",
    "new_data_3=pd.DataFrame(x_test_s)"
   ]
  },
  {
   "cell_type": "code",
   "execution_count": 72,
   "id": "0ada0152-e6f5-44e9-a5ec-d16eba3cca5e",
   "metadata": {},
   "outputs": [
    {
     "data": {
      "text/plain": [
       "(1460,)"
      ]
     },
     "execution_count": 72,
     "metadata": {},
     "output_type": "execute_result"
    }
   ],
   "source": [
    "new_data.shape"
   ]
  },
  {
   "cell_type": "code",
   "execution_count": 74,
   "id": "5fbe3333-9d26-4bcd-97ec-298b57500625",
   "metadata": {},
   "outputs": [
    {
     "data": {
      "text/plain": [
       "0"
      ]
     },
     "execution_count": 74,
     "metadata": {},
     "output_type": "execute_result"
    }
   ],
   "source": [
    "new_data.isnull().sum()"
   ]
  },
  {
   "cell_type": "code",
   "execution_count": null,
   "id": "ed4be551-1636-4f14-b1ac-5abbae26067f",
   "metadata": {},
   "outputs": [],
   "source": []
  }
 ],
 "metadata": {
  "kernelspec": {
   "display_name": "Python 3 (ipykernel)",
   "language": "python",
   "name": "python3"
  },
  "language_info": {
   "codemirror_mode": {
    "name": "ipython",
    "version": 3
   },
   "file_extension": ".py",
   "mimetype": "text/x-python",
   "name": "python",
   "nbconvert_exporter": "python",
   "pygments_lexer": "ipython3",
   "version": "3.12.7"
  }
 },
 "nbformat": 4,
 "nbformat_minor": 5
}
