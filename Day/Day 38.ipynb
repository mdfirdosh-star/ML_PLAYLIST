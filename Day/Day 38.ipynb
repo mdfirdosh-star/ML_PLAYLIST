{
 "cells": [
  {
   "cell_type": "markdown",
   "id": "2a7416ad-c1c9-421c-a9ae-abe74986a8e9",
   "metadata": {},
   "source": [
    "# random value in fill in the missing value "
   ]
  },
  {
   "cell_type": "code",
   "execution_count": 2,
   "id": "39d31429-53fc-421e-8d29-78ebf85aa013",
   "metadata": {},
   "outputs": [],
   "source": [
    "import pandas as pd \n",
    "import numpy as np\n",
    "import matplotlib.pyplot as plt \n",
    "from sklearn. model_selection import train_test_split \n",
    "import seaborn as sns\n"
   ]
  },
  {
   "cell_type": "code",
   "execution_count": 3,
   "id": "005abc26-d1eb-414c-96e4-07c54f2630ad",
   "metadata": {},
   "outputs": [],
   "source": [
    "data=pd.read_csv(r\"C:\\Users\\mdfir\\Downloads\\titanic_toy.csv\")"
   ]
  },
  {
   "cell_type": "code",
   "execution_count": 4,
   "id": "cd5abcfe-41f3-45d5-8576-688fc7604b3c",
   "metadata": {},
   "outputs": [
    {
     "data": {
      "text/html": [
       "<div>\n",
       "<style scoped>\n",
       "    .dataframe tbody tr th:only-of-type {\n",
       "        vertical-align: middle;\n",
       "    }\n",
       "\n",
       "    .dataframe tbody tr th {\n",
       "        vertical-align: top;\n",
       "    }\n",
       "\n",
       "    .dataframe thead th {\n",
       "        text-align: right;\n",
       "    }\n",
       "</style>\n",
       "<table border=\"1\" class=\"dataframe\">\n",
       "  <thead>\n",
       "    <tr style=\"text-align: right;\">\n",
       "      <th></th>\n",
       "      <th>Age</th>\n",
       "      <th>Fare</th>\n",
       "      <th>Family</th>\n",
       "      <th>Survived</th>\n",
       "    </tr>\n",
       "  </thead>\n",
       "  <tbody>\n",
       "    <tr>\n",
       "      <th>0</th>\n",
       "      <td>22.0</td>\n",
       "      <td>7.2500</td>\n",
       "      <td>1</td>\n",
       "      <td>0</td>\n",
       "    </tr>\n",
       "    <tr>\n",
       "      <th>1</th>\n",
       "      <td>38.0</td>\n",
       "      <td>71.2833</td>\n",
       "      <td>1</td>\n",
       "      <td>1</td>\n",
       "    </tr>\n",
       "    <tr>\n",
       "      <th>2</th>\n",
       "      <td>26.0</td>\n",
       "      <td>7.9250</td>\n",
       "      <td>0</td>\n",
       "      <td>1</td>\n",
       "    </tr>\n",
       "    <tr>\n",
       "      <th>3</th>\n",
       "      <td>35.0</td>\n",
       "      <td>53.1000</td>\n",
       "      <td>1</td>\n",
       "      <td>1</td>\n",
       "    </tr>\n",
       "    <tr>\n",
       "      <th>4</th>\n",
       "      <td>35.0</td>\n",
       "      <td>8.0500</td>\n",
       "      <td>0</td>\n",
       "      <td>0</td>\n",
       "    </tr>\n",
       "    <tr>\n",
       "      <th>...</th>\n",
       "      <td>...</td>\n",
       "      <td>...</td>\n",
       "      <td>...</td>\n",
       "      <td>...</td>\n",
       "    </tr>\n",
       "    <tr>\n",
       "      <th>886</th>\n",
       "      <td>27.0</td>\n",
       "      <td>13.0000</td>\n",
       "      <td>0</td>\n",
       "      <td>0</td>\n",
       "    </tr>\n",
       "    <tr>\n",
       "      <th>887</th>\n",
       "      <td>19.0</td>\n",
       "      <td>30.0000</td>\n",
       "      <td>0</td>\n",
       "      <td>1</td>\n",
       "    </tr>\n",
       "    <tr>\n",
       "      <th>888</th>\n",
       "      <td>NaN</td>\n",
       "      <td>23.4500</td>\n",
       "      <td>3</td>\n",
       "      <td>0</td>\n",
       "    </tr>\n",
       "    <tr>\n",
       "      <th>889</th>\n",
       "      <td>26.0</td>\n",
       "      <td>NaN</td>\n",
       "      <td>0</td>\n",
       "      <td>1</td>\n",
       "    </tr>\n",
       "    <tr>\n",
       "      <th>890</th>\n",
       "      <td>32.0</td>\n",
       "      <td>7.7500</td>\n",
       "      <td>0</td>\n",
       "      <td>0</td>\n",
       "    </tr>\n",
       "  </tbody>\n",
       "</table>\n",
       "<p>891 rows × 4 columns</p>\n",
       "</div>"
      ],
      "text/plain": [
       "      Age     Fare  Family  Survived\n",
       "0    22.0   7.2500       1         0\n",
       "1    38.0  71.2833       1         1\n",
       "2    26.0   7.9250       0         1\n",
       "3    35.0  53.1000       1         1\n",
       "4    35.0   8.0500       0         0\n",
       "..    ...      ...     ...       ...\n",
       "886  27.0  13.0000       0         0\n",
       "887  19.0  30.0000       0         1\n",
       "888   NaN  23.4500       3         0\n",
       "889  26.0      NaN       0         1\n",
       "890  32.0   7.7500       0         0\n",
       "\n",
       "[891 rows x 4 columns]"
      ]
     },
     "execution_count": 4,
     "metadata": {},
     "output_type": "execute_result"
    }
   ],
   "source": [
    "data"
   ]
  },
  {
   "cell_type": "code",
   "execution_count": 5,
   "id": "fc4b6e34-d1eb-404a-a9f8-2a95514f429a",
   "metadata": {},
   "outputs": [
    {
     "data": {
      "text/plain": [
       "Age         177\n",
       "Fare         45\n",
       "Family        0\n",
       "Survived      0\n",
       "dtype: int64"
      ]
     },
     "execution_count": 5,
     "metadata": {},
     "output_type": "execute_result"
    }
   ],
   "source": [
    "data.isnull().sum()"
   ]
  },
  {
   "cell_type": "code",
   "execution_count": 6,
   "id": "5dc4a056-8cd0-4b73-99ca-6a53a99826ea",
   "metadata": {},
   "outputs": [],
   "source": [
    "x=data[[\"Age\",\"Fare\",\"Family\"]]\n",
    "y=data[\"Survived\"]"
   ]
  },
  {
   "cell_type": "code",
   "execution_count": 7,
   "id": "7d5f02c2-9717-4aa4-9be3-2b3b1f2a9f06",
   "metadata": {},
   "outputs": [],
   "source": [
    "x_train,x_test,y_train,y_test=train_test_split (x,y,test_size=.3,random_state=42)"
   ]
  },
  {
   "cell_type": "code",
   "execution_count": 8,
   "id": "90441806-af2e-4c17-97c0-ef2745862f2b",
   "metadata": {},
   "outputs": [
    {
     "data": {
      "text/plain": [
       "Age       124\n",
       "Fare       30\n",
       "Family      0\n",
       "dtype: int64"
      ]
     },
     "execution_count": 8,
     "metadata": {},
     "output_type": "execute_result"
    }
   ],
   "source": [
    "x_train.isnull().sum()"
   ]
  },
  {
   "cell_type": "code",
   "execution_count": 9,
   "id": "5d56c1d3-1ab7-43fe-bc96-aca213eda2c8",
   "metadata": {},
   "outputs": [
    {
     "data": {
      "text/plain": [
       "Age       53\n",
       "Fare      15\n",
       "Family     0\n",
       "dtype: int64"
      ]
     },
     "execution_count": 9,
     "metadata": {},
     "output_type": "execute_result"
    }
   ],
   "source": [
    "x_test.isnull().sum()"
   ]
  },
  {
   "cell_type": "code",
   "execution_count": 10,
   "id": "1360dfe7-382e-4fdc-9af2-df6058551d6b",
   "metadata": {},
   "outputs": [],
   "source": [
    "x_train[\"age_impute\"]=x_train[\"Age\"]\n",
    "x_test[\"age_impute\"]=x_test[\"Age\"]"
   ]
  },
  {
   "cell_type": "markdown",
   "id": "5de3aa41-ea62-4682-95ea-c3a83fd19e27",
   "metadata": {},
   "source": [
    "# fill the random value of missing value "
   ]
  },
  {
   "cell_type": "code",
   "execution_count": 12,
   "id": "a69cfd9f-0020-4169-b484-9ac0fe4ef8f4",
   "metadata": {},
   "outputs": [
    {
     "data": {
      "text/plain": [
       "Age           124\n",
       "Fare           30\n",
       "Family          0\n",
       "age_impute    124\n",
       "dtype: int64"
      ]
     },
     "execution_count": 12,
     "metadata": {},
     "output_type": "execute_result"
    }
   ],
   "source": [
    "x_train.isnull().sum()"
   ]
  },
  {
   "cell_type": "code",
   "execution_count": 13,
   "id": "317ed464-66bc-4b3d-a25d-c8662d52731b",
   "metadata": {},
   "outputs": [
    {
     "data": {
      "text/plain": [
       "650   NaN\n",
       "181   NaN\n",
       "334   NaN\n",
       "28    NaN\n",
       "783   NaN\n",
       "       ..\n",
       "330   NaN\n",
       "214   NaN\n",
       "466   NaN\n",
       "121   NaN\n",
       "270   NaN\n",
       "Name: age_impute, Length: 124, dtype: float64"
      ]
     },
     "execution_count": 13,
     "metadata": {},
     "output_type": "execute_result"
    }
   ],
   "source": [
    "x_train[\"age_impute\"][x_train[\"age_impute\"].isnull()]"
   ]
  },
  {
   "cell_type": "code",
   "execution_count": 14,
   "id": "c4908363-49ba-45a6-8fba-5bcd077d8249",
   "metadata": {},
   "outputs": [
    {
     "data": {
      "text/plain": [
       "164     1.0\n",
       "873    47.0\n",
       "686    14.0\n",
       "297     2.0\n",
       "255    29.0\n",
       "       ... \n",
       "489     9.0\n",
       "332    38.0\n",
       "774    54.0\n",
       "406    51.0\n",
       "114    17.0\n",
       "Name: Age, Length: 124, dtype: float64"
      ]
     },
     "execution_count": 14,
     "metadata": {},
     "output_type": "execute_result"
    }
   ],
   "source": [
    "x_train[\"Age\"].dropna().sample(x_train[\"Age\"].isnull().sum())"
   ]
  },
  {
   "cell_type": "code",
   "execution_count": 15,
   "id": "b1dd6d39-cd2c-4f08-9bf3-87aabad186e4",
   "metadata": {},
   "outputs": [
    {
     "name": "stderr",
     "output_type": "stream",
     "text": [
      "C:\\Users\\mdfir\\AppData\\Local\\Temp\\ipykernel_14128\\2241725355.py:1: FutureWarning: ChainedAssignmentError: behaviour will change in pandas 3.0!\n",
      "You are setting values through chained assignment. Currently this works in certain cases, but when using Copy-on-Write (which will become the default behaviour in pandas 3.0) this will never work to update the original DataFrame or Series, because the intermediate object on which we are setting values will behave as a copy.\n",
      "A typical example is when you are setting values in a column of a DataFrame, like:\n",
      "\n",
      "df[\"col\"][row_indexer] = value\n",
      "\n",
      "Use `df.loc[row_indexer, \"col\"] = values` instead, to perform the assignment in a single step and ensure this keeps updating the original `df`.\n",
      "\n",
      "See the caveats in the documentation: https://pandas.pydata.org/pandas-docs/stable/user_guide/indexing.html#returning-a-view-versus-a-copy\n",
      "\n",
      "  x_train[\"age_impute\"][x_train[\"age_impute\"].isnull()]=x_train[\"Age\"].dropna().sample(x_train[\"Age\"].isnull().sum()).values\n",
      "C:\\Users\\mdfir\\AppData\\Local\\Temp\\ipykernel_14128\\2241725355.py:1: SettingWithCopyWarning: \n",
      "A value is trying to be set on a copy of a slice from a DataFrame\n",
      "\n",
      "See the caveats in the documentation: https://pandas.pydata.org/pandas-docs/stable/user_guide/indexing.html#returning-a-view-versus-a-copy\n",
      "  x_train[\"age_impute\"][x_train[\"age_impute\"].isnull()]=x_train[\"Age\"].dropna().sample(x_train[\"Age\"].isnull().sum()).values\n",
      "C:\\Users\\mdfir\\AppData\\Local\\Temp\\ipykernel_14128\\2241725355.py:2: FutureWarning: ChainedAssignmentError: behaviour will change in pandas 3.0!\n",
      "You are setting values through chained assignment. Currently this works in certain cases, but when using Copy-on-Write (which will become the default behaviour in pandas 3.0) this will never work to update the original DataFrame or Series, because the intermediate object on which we are setting values will behave as a copy.\n",
      "A typical example is when you are setting values in a column of a DataFrame, like:\n",
      "\n",
      "df[\"col\"][row_indexer] = value\n",
      "\n",
      "Use `df.loc[row_indexer, \"col\"] = values` instead, to perform the assignment in a single step and ensure this keeps updating the original `df`.\n",
      "\n",
      "See the caveats in the documentation: https://pandas.pydata.org/pandas-docs/stable/user_guide/indexing.html#returning-a-view-versus-a-copy\n",
      "\n",
      "  x_test[\"age_impute\"] [x_test[\"age_impute\"].isnull()]=x_test[\"Age\"].dropna().sample(x_test[\"Age\"].isnull().sum()).values\n",
      "C:\\Users\\mdfir\\AppData\\Local\\Temp\\ipykernel_14128\\2241725355.py:2: SettingWithCopyWarning: \n",
      "A value is trying to be set on a copy of a slice from a DataFrame\n",
      "\n",
      "See the caveats in the documentation: https://pandas.pydata.org/pandas-docs/stable/user_guide/indexing.html#returning-a-view-versus-a-copy\n",
      "  x_test[\"age_impute\"] [x_test[\"age_impute\"].isnull()]=x_test[\"Age\"].dropna().sample(x_test[\"Age\"].isnull().sum()).values\n"
     ]
    }
   ],
   "source": [
    "x_train[\"age_impute\"][x_train[\"age_impute\"].isnull()]=x_train[\"Age\"].dropna().sample(x_train[\"Age\"].isnull().sum()).values\n",
    "x_test[\"age_impute\"] [x_test[\"age_impute\"].isnull()]=x_test[\"Age\"].dropna().sample(x_test[\"Age\"].isnull().sum()).values"
   ]
  },
  {
   "cell_type": "code",
   "execution_count": 16,
   "id": "ae6931d1-2613-44b1-8fb9-c8fa7991c743",
   "metadata": {},
   "outputs": [
    {
     "data": {
      "text/plain": [
       "Age           124\n",
       "Fare           30\n",
       "Family          0\n",
       "age_impute      0\n",
       "dtype: int64"
      ]
     },
     "execution_count": 16,
     "metadata": {},
     "output_type": "execute_result"
    }
   ],
   "source": [
    "x_train.isnull().sum()"
   ]
  },
  {
   "cell_type": "code",
   "execution_count": 17,
   "id": "3533aa65-3663-46cb-9d40-525770f87130",
   "metadata": {},
   "outputs": [
    {
     "data": {
      "text/plain": [
       "Age           53\n",
       "Fare          15\n",
       "Family         0\n",
       "age_impute     0\n",
       "dtype: int64"
      ]
     },
     "execution_count": 17,
     "metadata": {},
     "output_type": "execute_result"
    }
   ],
   "source": [
    "x_test.isnull().sum()"
   ]
  },
  {
   "cell_type": "code",
   "execution_count": 18,
   "id": "8fa61c1b-5929-4872-ac08-fc66262df15f",
   "metadata": {},
   "outputs": [
    {
     "data": {
      "text/plain": [
       "<matplotlib.legend.Legend at 0x21c6dde8da0>"
      ]
     },
     "execution_count": 18,
     "metadata": {},
     "output_type": "execute_result"
    },
    {
     "data": {
      "image/png": "[encoded data removed]",
      "text/plain": [
       "<Figure size 1400x500 with 1 Axes>"
      ]
     },
     "metadata": {},
     "output_type": "display_data"
    }
   ],
   "source": [
    "plt.figure(figsize=(14,5))\n",
    "plt.subplot(121)\n",
    "sns.kdeplot(x_test[\"Age\"],label=\"before missing \")\n",
    "plt.legend()\n",
    "\n",
    "\n",
    "plt.subplot(121)\n",
    "sns.kdeplot(x_test[\"age_impute\"],label=\"after missing value fill \")\n",
    "plt.legend()\n"
   ]
  },
  {
   "cell_type": "code",
   "execution_count": 19,
   "id": "32a49213-ea5d-4f59-8360-0094e912dc9f",
   "metadata": {},
   "outputs": [
    {
     "data": {
      "text/plain": [
       "<matplotlib.legend.Legend at 0x21c70684140>"
      ]
     },
     "execution_count": 19,
     "metadata": {},
     "output_type": "execute_result"
    },
    {
     "data": {
      "image/png": "[encoded data removed]",
      "text/plain": [
       "<Figure size 1400x500 with 1 Axes>"
      ]
     },
     "metadata": {},
     "output_type": "display_data"
    }
   ],
   "source": [
    "plt.figure(figsize=(14,5))\n",
    "plt.subplot(121)\n",
    "sns.kdeplot(x_test[\"Age\"],label=\"before missing \")\n",
    "plt.legend()\n",
    "\n",
    "\n",
    "plt.subplot(121)\n",
    "sns.kdeplot(x_test[\"age_impute\"],label=\"after missing value fill\")\n",
    "plt.legend()\n"
   ]
  },
  {
   "cell_type": "code",
   "execution_count": null,
   "id": "6e7feb47-b73c-4a52-b989-137669cc683e",
   "metadata": {},
   "outputs": [],
   "source": []
  },
  {
   "cell_type": "code",
   "execution_count": null,
   "id": "f20667c3-96f2-42f8-8f59-bdb9a2f89473",
   "metadata": {},
   "outputs": [],
   "source": []
  },
  {
   "cell_type": "code",
   "execution_count": 20,
   "id": "47eeb933-0c78-4173-8665-dc7f786b4dc4",
   "metadata": {},
   "outputs": [],
   "source": [
    "x_train[\"fare_impute\"]=x_train[\"Fare\"]"
   ]
  },
  {
   "cell_type": "code",
   "execution_count": 21,
   "id": "022e2acb-55d3-4b34-9616-b33972b79d52",
   "metadata": {},
   "outputs": [
    {
     "name": "stderr",
     "output_type": "stream",
     "text": [
      "C:\\Users\\mdfir\\AppData\\Local\\Temp\\ipykernel_14128\\2409048470.py:1: FutureWarning: ChainedAssignmentError: behaviour will change in pandas 3.0!\n",
      "You are setting values through chained assignment. Currently this works in certain cases, but when using Copy-on-Write (which will become the default behaviour in pandas 3.0) this will never work to update the original DataFrame or Series, because the intermediate object on which we are setting values will behave as a copy.\n",
      "A typical example is when you are setting values in a column of a DataFrame, like:\n",
      "\n",
      "df[\"col\"][row_indexer] = value\n",
      "\n",
      "Use `df.loc[row_indexer, \"col\"] = values` instead, to perform the assignment in a single step and ensure this keeps updating the original `df`.\n",
      "\n",
      "See the caveats in the documentation: https://pandas.pydata.org/pandas-docs/stable/user_guide/indexing.html#returning-a-view-versus-a-copy\n",
      "\n",
      "  x_train[\"fare_impute\"][x_train[\"fare_impute\"].isnull()]=x_train[\"Fare\"].dropna().sample(x_train[\"Fare\"].isnull().sum()).values\n",
      "C:\\Users\\mdfir\\AppData\\Local\\Temp\\ipykernel_14128\\2409048470.py:1: SettingWithCopyWarning: \n",
      "A value is trying to be set on a copy of a slice from a DataFrame\n",
      "\n",
      "See the caveats in the documentation: https://pandas.pydata.org/pandas-docs/stable/user_guide/indexing.html#returning-a-view-versus-a-copy\n",
      "  x_train[\"fare_impute\"][x_train[\"fare_impute\"].isnull()]=x_train[\"Fare\"].dropna().sample(x_train[\"Fare\"].isnull().sum()).values\n"
     ]
    }
   ],
   "source": [
    "x_train[\"fare_impute\"][x_train[\"fare_impute\"].isnull()]=x_train[\"Fare\"].dropna().sample(x_train[\"Fare\"].isnull().sum()).values"
   ]
  },
  {
   "cell_type": "code",
   "execution_count": 22,
   "id": "f3e9d84a-a649-44c1-adea-2abf3f1ece77",
   "metadata": {},
   "outputs": [
    {
     "data": {
      "text/plain": [
       "Age            124\n",
       "Fare            30\n",
       "Family           0\n",
       "age_impute       0\n",
       "fare_impute      0\n",
       "dtype: int64"
      ]
     },
     "execution_count": 22,
     "metadata": {},
     "output_type": "execute_result"
    }
   ],
   "source": [
    "x_train.isnull().sum()"
   ]
  },
  {
   "cell_type": "code",
   "execution_count": null,
   "id": "d67471f0-8cdf-4058-9fd2-6e4055d215c4",
   "metadata": {},
   "outputs": [],
   "source": []
  },
  {
   "cell_type": "code",
   "execution_count": null,
   "id": "49337371-5b4f-447d-bfd3-d38f31d55127",
   "metadata": {},
   "outputs": [],
   "source": []
  },
  {
   "cell_type": "code",
   "execution_count": null,
   "id": "261cab40-8828-4240-8017-7b2fbe0df27a",
   "metadata": {},
   "outputs": [],
   "source": []
  }
 ],
 "metadata": {
  "kernelspec": {
   "display_name": "Python 3 (ipykernel)",
   "language": "python",
   "name": "python3"
  },
  "language_info": {
   "codemirror_mode": {
    "name": "ipython",
    "version": 3
   },
   "file_extension": ".py",
   "mimetype": "text/x-python",
   "name": "python",
   "nbconvert_exporter": "python",
   "pygments_lexer": "ipython3",
   "version": "3.12.7"
  }
 },
 "nbformat": 4,
 "nbformat_minor": 5
}
