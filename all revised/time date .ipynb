{
 "cells": [
  {
   "cell_type": "code",
   "execution_count": 3,
   "id": "799ac3cf-1639-4666-aadb-b56ce6fc4c10",
   "metadata": {},
   "outputs": [],
   "source": [
    "import pandas as pd\n",
    "import numpy as np\n",
    "import seaborn as sns\n"
   ]
  },
  {
   "cell_type": "code",
   "execution_count": 5,
   "id": "5a69d133-5da4-411b-aaed-2a37c7316d59",
   "metadata": {},
   "outputs": [],
   "source": [
    "data=sns.load_dataset(\"dowjones\")"
   ]
  },
  {
   "cell_type": "code",
   "execution_count": 7,
   "id": "df6fb3e5-8789-40ce-975d-8ba7448fa42f",
   "metadata": {},
   "outputs": [
    {
     "data": {
      "text/html": [
       "<div>\n",
       "<style scoped>\n",
       "    .dataframe tbody tr th:only-of-type {\n",
       "        vertical-align: middle;\n",
       "    }\n",
       "\n",
       "    .dataframe tbody tr th {\n",
       "        vertical-align: top;\n",
       "    }\n",
       "\n",
       "    .dataframe thead th {\n",
       "        text-align: right;\n",
       "    }\n",
       "</style>\n",
       "<table border=\"1\" class=\"dataframe\">\n",
       "  <thead>\n",
       "    <tr style=\"text-align: right;\">\n",
       "      <th></th>\n",
       "      <th>Date</th>\n",
       "      <th>Price</th>\n",
       "    </tr>\n",
       "  </thead>\n",
       "  <tbody>\n",
       "    <tr>\n",
       "      <th>0</th>\n",
       "      <td>1914-12-01</td>\n",
       "      <td>55.00</td>\n",
       "    </tr>\n",
       "    <tr>\n",
       "      <th>1</th>\n",
       "      <td>1915-01-01</td>\n",
       "      <td>56.55</td>\n",
       "    </tr>\n",
       "    <tr>\n",
       "      <th>2</th>\n",
       "      <td>1915-02-01</td>\n",
       "      <td>56.00</td>\n",
       "    </tr>\n",
       "    <tr>\n",
       "      <th>3</th>\n",
       "      <td>1915-03-01</td>\n",
       "      <td>58.30</td>\n",
       "    </tr>\n",
       "    <tr>\n",
       "      <th>4</th>\n",
       "      <td>1915-04-01</td>\n",
       "      <td>66.45</td>\n",
       "    </tr>\n",
       "  </tbody>\n",
       "</table>\n",
       "</div>"
      ],
      "text/plain": [
       "        Date  Price\n",
       "0 1914-12-01  55.00\n",
       "1 1915-01-01  56.55\n",
       "2 1915-02-01  56.00\n",
       "3 1915-03-01  58.30\n",
       "4 1915-04-01  66.45"
      ]
     },
     "execution_count": 7,
     "metadata": {},
     "output_type": "execute_result"
    }
   ],
   "source": [
    "data.head()"
   ]
  },
  {
   "cell_type": "code",
   "execution_count": 9,
   "id": "eedfe415-fa6f-4675-949b-97003884ff67",
   "metadata": {},
   "outputs": [
    {
     "name": "stdout",
     "output_type": "stream",
     "text": [
      "<class 'pandas.core.frame.DataFrame'>\n",
      "RangeIndex: 649 entries, 0 to 648\n",
      "Data columns (total 2 columns):\n",
      " #   Column  Non-Null Count  Dtype         \n",
      "---  ------  --------------  -----         \n",
      " 0   Date    649 non-null    datetime64[ns]\n",
      " 1   Price   649 non-null    float64       \n",
      "dtypes: datetime64[ns](1), float64(1)\n",
      "memory usage: 10.3 KB\n"
     ]
    }
   ],
   "source": [
    "data.info()"
   ]
  },
  {
   "cell_type": "code",
   "execution_count": 13,
   "id": "f2c99313-736b-4e67-ad7b-ebe9c32c4d7a",
   "metadata": {},
   "outputs": [],
   "source": [
    "data[\"date_year\"]=data[\"Date\"].dt.year"
   ]
  },
  {
   "cell_type": "code",
   "execution_count": 15,
   "id": "54bb0af5-03b6-4877-b54a-610391dd3fef",
   "metadata": {},
   "outputs": [],
   "source": [
    "data[\"month_no\"]=data[\"Date\"].dt.month"
   ]
  },
  {
   "cell_type": "code",
   "execution_count": 21,
   "id": "aa09e620-ae7c-42e5-9404-c4c46c82414b",
   "metadata": {},
   "outputs": [],
   "source": [
    "data[\"month_name\"]=data[\"Date\"].dt.month_name()"
   ]
  },
  {
   "cell_type": "code",
   "execution_count": 25,
   "id": "20191d0e-c13d-4b11-a21f-2637515eb20d",
   "metadata": {},
   "outputs": [],
   "source": [
    "data[\"day_no\"]=data[\"Date\"].dt.day"
   ]
  },
  {
   "cell_type": "code",
   "execution_count": 27,
   "id": "a69e082c-5bb4-498d-b8a8-313d9e6590bb",
   "metadata": {},
   "outputs": [],
   "source": [
    "data[\"day_name\"]=data[\"Date\"].dt.day_name()"
   ]
  },
  {
   "cell_type": "code",
   "execution_count": 29,
   "id": "190c5ede-c3f0-4608-b6d9-469dfe6c842d",
   "metadata": {},
   "outputs": [
    {
     "data": {
      "text/html": [
       "<div>\n",
       "<style scoped>\n",
       "    .dataframe tbody tr th:only-of-type {\n",
       "        vertical-align: middle;\n",
       "    }\n",
       "\n",
       "    .dataframe tbody tr th {\n",
       "        vertical-align: top;\n",
       "    }\n",
       "\n",
       "    .dataframe thead th {\n",
       "        text-align: right;\n",
       "    }\n",
       "</style>\n",
       "<table border=\"1\" class=\"dataframe\">\n",
       "  <thead>\n",
       "    <tr style=\"text-align: right;\">\n",
       "      <th></th>\n",
       "      <th>Date</th>\n",
       "      <th>Price</th>\n",
       "      <th>date_year</th>\n",
       "      <th>month_no</th>\n",
       "      <th>month_name</th>\n",
       "      <th>day_no</th>\n",
       "      <th>day_name</th>\n",
       "    </tr>\n",
       "  </thead>\n",
       "  <tbody>\n",
       "    <tr>\n",
       "      <th>0</th>\n",
       "      <td>1914-12-01</td>\n",
       "      <td>55.00</td>\n",
       "      <td>1914</td>\n",
       "      <td>12</td>\n",
       "      <td>December</td>\n",
       "      <td>1</td>\n",
       "      <td>Tuesday</td>\n",
       "    </tr>\n",
       "    <tr>\n",
       "      <th>1</th>\n",
       "      <td>1915-01-01</td>\n",
       "      <td>56.55</td>\n",
       "      <td>1915</td>\n",
       "      <td>1</td>\n",
       "      <td>January</td>\n",
       "      <td>1</td>\n",
       "      <td>Friday</td>\n",
       "    </tr>\n",
       "    <tr>\n",
       "      <th>2</th>\n",
       "      <td>1915-02-01</td>\n",
       "      <td>56.00</td>\n",
       "      <td>1915</td>\n",
       "      <td>2</td>\n",
       "      <td>February</td>\n",
       "      <td>1</td>\n",
       "      <td>Monday</td>\n",
       "    </tr>\n",
       "    <tr>\n",
       "      <th>3</th>\n",
       "      <td>1915-03-01</td>\n",
       "      <td>58.30</td>\n",
       "      <td>1915</td>\n",
       "      <td>3</td>\n",
       "      <td>March</td>\n",
       "      <td>1</td>\n",
       "      <td>Monday</td>\n",
       "    </tr>\n",
       "    <tr>\n",
       "      <th>4</th>\n",
       "      <td>1915-04-01</td>\n",
       "      <td>66.45</td>\n",
       "      <td>1915</td>\n",
       "      <td>4</td>\n",
       "      <td>April</td>\n",
       "      <td>1</td>\n",
       "      <td>Thursday</td>\n",
       "    </tr>\n",
       "    <tr>\n",
       "      <th>...</th>\n",
       "      <td>...</td>\n",
       "      <td>...</td>\n",
       "      <td>...</td>\n",
       "      <td>...</td>\n",
       "      <td>...</td>\n",
       "      <td>...</td>\n",
       "      <td>...</td>\n",
       "    </tr>\n",
       "    <tr>\n",
       "      <th>644</th>\n",
       "      <td>1968-08-01</td>\n",
       "      <td>883.72</td>\n",
       "      <td>1968</td>\n",
       "      <td>8</td>\n",
       "      <td>August</td>\n",
       "      <td>1</td>\n",
       "      <td>Thursday</td>\n",
       "    </tr>\n",
       "    <tr>\n",
       "      <th>645</th>\n",
       "      <td>1968-09-01</td>\n",
       "      <td>922.80</td>\n",
       "      <td>1968</td>\n",
       "      <td>9</td>\n",
       "      <td>September</td>\n",
       "      <td>1</td>\n",
       "      <td>Sunday</td>\n",
       "    </tr>\n",
       "    <tr>\n",
       "      <th>646</th>\n",
       "      <td>1968-10-01</td>\n",
       "      <td>955.47</td>\n",
       "      <td>1968</td>\n",
       "      <td>10</td>\n",
       "      <td>October</td>\n",
       "      <td>1</td>\n",
       "      <td>Tuesday</td>\n",
       "    </tr>\n",
       "    <tr>\n",
       "      <th>647</th>\n",
       "      <td>1968-11-01</td>\n",
       "      <td>964.12</td>\n",
       "      <td>1968</td>\n",
       "      <td>11</td>\n",
       "      <td>November</td>\n",
       "      <td>1</td>\n",
       "      <td>Friday</td>\n",
       "    </tr>\n",
       "    <tr>\n",
       "      <th>648</th>\n",
       "      <td>1968-12-01</td>\n",
       "      <td>965.39</td>\n",
       "      <td>1968</td>\n",
       "      <td>12</td>\n",
       "      <td>December</td>\n",
       "      <td>1</td>\n",
       "      <td>Sunday</td>\n",
       "    </tr>\n",
       "  </tbody>\n",
       "</table>\n",
       "<p>649 rows × 7 columns</p>\n",
       "</div>"
      ],
      "text/plain": [
       "          Date   Price  date_year  month_no month_name  day_no  day_name\n",
       "0   1914-12-01   55.00       1914        12   December       1   Tuesday\n",
       "1   1915-01-01   56.55       1915         1    January       1    Friday\n",
       "2   1915-02-01   56.00       1915         2   February       1    Monday\n",
       "3   1915-03-01   58.30       1915         3      March       1    Monday\n",
       "4   1915-04-01   66.45       1915         4      April       1  Thursday\n",
       "..         ...     ...        ...       ...        ...     ...       ...\n",
       "644 1968-08-01  883.72       1968         8     August       1  Thursday\n",
       "645 1968-09-01  922.80       1968         9  September       1    Sunday\n",
       "646 1968-10-01  955.47       1968        10    October       1   Tuesday\n",
       "647 1968-11-01  964.12       1968        11   November       1    Friday\n",
       "648 1968-12-01  965.39       1968        12   December       1    Sunday\n",
       "\n",
       "[649 rows x 7 columns]"
      ]
     },
     "execution_count": 29,
     "metadata": {},
     "output_type": "execute_result"
    }
   ],
   "source": [
    "data"
   ]
  },
  {
   "cell_type": "code",
   "execution_count": null,
   "id": "b4cfd442-a629-4368-bc43-a7e774b4c421",
   "metadata": {},
   "outputs": [],
   "source": []
  }
 ],
 "metadata": {
  "kernelspec": {
   "display_name": "Python 3 (ipykernel)",
   "language": "python",
   "name": "python3"
  },
  "language_info": {
   "codemirror_mode": {
    "name": "ipython",
    "version": 3
   },
   "file_extension": ".py",
   "mimetype": "text/x-python",
   "name": "python",
   "nbconvert_exporter": "python",
   "pygments_lexer": "ipython3",
   "version": "3.12.7"
  }
 },
 "nbformat": 4,
 "nbformat_minor": 5
}
