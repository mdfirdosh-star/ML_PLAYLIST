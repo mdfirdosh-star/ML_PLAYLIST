{
 "cells": [
  {
   "cell_type": "code",
   "execution_count": 17,
   "id": "b355682f-f08e-422c-95c4-ac6afda21ec5",
   "metadata": {},
   "outputs": [],
   "source": [
    "import pickle\n",
    "import pandas as pd\n"
   ]
  },
  {
   "cell_type": "code",
   "execution_count": 33,
   "id": "119645c9-af3e-46f5-9c8b-564f84a9bcb1",
   "metadata": {},
   "outputs": [],
   "source": [
    "data=pickle.load(open(\"logesticlr.pkl\",\"rb\"))"
   ]
  },
  {
   "cell_type": "code",
   "execution_count": 41,
   "id": "fe0ffefe-b2f4-4a46-8efe-ef44311e770b",
   "metadata": {},
   "outputs": [
    {
     "name": "stdin",
     "output_type": "stream",
     "text": [
      "enter your value the total bill 777\n",
      "enter your value the tip 4\n",
      "enter your gender 'male','female'  male\n",
      "enter your  day sat\n",
      "enter your  time( 'Dinner' ,'Lunch')  Dinner\n",
      "enter your value size 5\n"
     ]
    }
   ],
   "source": [
    "total_bill=float(input(\"enter your value the total bill\"))\n",
    "tip=float(input(\"enter your value the tip\"))\n",
    "sex=input(\"enter your gender 'male','female' \")\n",
    "day=input(\"enter your  day\")\n",
    "time=input(\"enter your  time( 'Dinner' ,'Lunch') \")\n",
    "size=int(input(\"enter your value size\"))"
   ]
  },
  {
   "cell_type": "code",
   "execution_count": 43,
   "id": "92b1943a-bff3-4ae1-95c6-7b9e22a47115",
   "metadata": {},
   "outputs": [],
   "source": [
    "input_vau=pd.DataFrame({\"total_bill\":[total_bill],\"tip\":[tip],\"sex\":[sex],\"day\":[day],\"time\":[time],\"size\":[size]})"
   ]
  },
  {
   "cell_type": "code",
   "execution_count": 45,
   "id": "2772a6b1-b752-44d0-b25c-06e33b9e193a",
   "metadata": {},
   "outputs": [],
   "source": [
    "pred=data.predict(input_vau)"
   ]
  },
  {
   "cell_type": "code",
   "execution_count": 47,
   "id": "6802b4a6-3a34-4793-bd2c-0c47e657c4af",
   "metadata": {},
   "outputs": [
    {
     "data": {
      "text/plain": [
       "array([1], dtype=int64)"
      ]
     },
     "execution_count": 47,
     "metadata": {},
     "output_type": "execute_result"
    }
   ],
   "source": [
    "pred\n"
   ]
  },
  {
   "cell_type": "code",
   "execution_count": 49,
   "id": "d65333a7-7e26-40b3-89c5-1257a1d18a2c",
   "metadata": {},
   "outputs": [],
   "source": [
    "\n"
   ]
  },
  {
   "cell_type": "code",
   "execution_count": null,
   "id": "f774d3d1-f853-44c8-903e-478e50c869c4",
   "metadata": {},
   "outputs": [],
   "source": []
  }
 ],
 "metadata": {
  "kernelspec": {
   "display_name": "Python 3 (ipykernel)",
   "language": "python",
   "name": "python3"
  },
  "language_info": {
   "codemirror_mode": {
    "name": "ipython",
    "version": 3
   },
   "file_extension": ".py",
   "mimetype": "text/x-python",
   "name": "python",
   "nbconvert_exporter": "python",
   "pygments_lexer": "ipython3",
   "version": "3.12.7"
  }
 },
 "nbformat": 4,
 "nbformat_minor": 5
}
