{
 "cells": [
  {
   "cell_type": "code",
   "execution_count": 1,
   "id": "1407b0ef-ee59-4492-a064-588c18788043",
   "metadata": {},
   "outputs": [],
   "source": [
    "import pandas as pd\n",
    "import numpy as np"
   ]
  },
  {
   "cell_type": "code",
   "execution_count": 2,
   "id": "203f1f99-b689-4512-a1fe-f316c46135c2",
   "metadata": {},
   "outputs": [],
   "source": [
    "data=pd.read_csv(r\"C:\\Users\\mdfir\\Downloads\\market_indicators.csv\")"
   ]
  },
  {
   "cell_type": "code",
   "execution_count": 3,
   "id": "497cbd9b-f980-437a-8da8-ed9ba88c4a50",
   "metadata": {},
   "outputs": [
    {
     "data": {
      "text/html": [
       "<div>\n",
       "<style scoped>\n",
       "    .dataframe tbody tr th:only-of-type {\n",
       "        vertical-align: middle;\n",
       "    }\n",
       "\n",
       "    .dataframe tbody tr th {\n",
       "        vertical-align: top;\n",
       "    }\n",
       "\n",
       "    .dataframe thead th {\n",
       "        text-align: right;\n",
       "    }\n",
       "</style>\n",
       "<table border=\"1\" class=\"dataframe\">\n",
       "  <thead>\n",
       "    <tr style=\"text-align: right;\">\n",
       "      <th></th>\n",
       "      <th>Date</th>\n",
       "      <th>dxy</th>\n",
       "      <th>oil</th>\n",
       "      <th>gold</th>\n",
       "      <th>treasury_5_years</th>\n",
       "      <th>treasury_10_years</th>\n",
       "      <th>treasury_30_years</th>\n",
       "    </tr>\n",
       "  </thead>\n",
       "  <tbody>\n",
       "    <tr>\n",
       "      <th>0</th>\n",
       "      <td>2009-03-31</td>\n",
       "      <td>85.430000</td>\n",
       "      <td>49.660000</td>\n",
       "      <td>922.599976</td>\n",
       "      <td>1.675</td>\n",
       "      <td>2.685</td>\n",
       "      <td>3.561</td>\n",
       "    </tr>\n",
       "    <tr>\n",
       "      <th>1</th>\n",
       "      <td>2009-04-01</td>\n",
       "      <td>85.500000</td>\n",
       "      <td>48.389999</td>\n",
       "      <td>926.099976</td>\n",
       "      <td>1.652</td>\n",
       "      <td>2.658</td>\n",
       "      <td>3.494</td>\n",
       "    </tr>\n",
       "    <tr>\n",
       "      <th>2</th>\n",
       "      <td>2009-04-02</td>\n",
       "      <td>84.449997</td>\n",
       "      <td>52.639999</td>\n",
       "      <td>907.400024</td>\n",
       "      <td>1.740</td>\n",
       "      <td>2.752</td>\n",
       "      <td>3.577</td>\n",
       "    </tr>\n",
       "    <tr>\n",
       "      <th>3</th>\n",
       "      <td>2009-04-03</td>\n",
       "      <td>84.169998</td>\n",
       "      <td>52.509998</td>\n",
       "      <td>895.599976</td>\n",
       "      <td>1.885</td>\n",
       "      <td>2.907</td>\n",
       "      <td>3.721</td>\n",
       "    </tr>\n",
       "    <tr>\n",
       "      <th>4</th>\n",
       "      <td>2009-04-06</td>\n",
       "      <td>84.570000</td>\n",
       "      <td>51.049999</td>\n",
       "      <td>871.500000</td>\n",
       "      <td>1.899</td>\n",
       "      <td>2.939</td>\n",
       "      <td>3.758</td>\n",
       "    </tr>\n",
       "  </tbody>\n",
       "</table>\n",
       "</div>"
      ],
      "text/plain": [
       "         Date        dxy        oil        gold  treasury_5_years  \\\n",
       "0  2009-03-31  85.430000  49.660000  922.599976             1.675   \n",
       "1  2009-04-01  85.500000  48.389999  926.099976             1.652   \n",
       "2  2009-04-02  84.449997  52.639999  907.400024             1.740   \n",
       "3  2009-04-03  84.169998  52.509998  895.599976             1.885   \n",
       "4  2009-04-06  84.570000  51.049999  871.500000             1.899   \n",
       "\n",
       "   treasury_10_years  treasury_30_years  \n",
       "0              2.685              3.561  \n",
       "1              2.658              3.494  \n",
       "2              2.752              3.577  \n",
       "3              2.907              3.721  \n",
       "4              2.939              3.758  "
      ]
     },
     "execution_count": 3,
     "metadata": {},
     "output_type": "execute_result"
    }
   ],
   "source": [
    "data.head()"
   ]
  },
  {
   "cell_type": "code",
   "execution_count": 14,
   "id": "f1e16424-e8b4-47a7-9cf9-9f6cb61a7e91",
   "metadata": {},
   "outputs": [],
   "source": [
    "from pandas_profiling import ProfileReport"
   ]
  },
  {
   "cell_type": "code",
   "execution_count": 18,
   "id": "ac6698ea-2e68-468b-b0e8-1e04eecac888",
   "metadata": {},
   "outputs": [],
   "source": [
    "file=ProfileReport(data)"
   ]
  },
  {
   "cell_type": "code",
   "execution_count": 19,
   "id": "efcb768c-e37a-4156-a612-66a277b484a6",
   "metadata": {},
   "outputs": [
    {
     "data": {
      "application/vnd.jupyter.widget-view+json": {
       "model_id": "ec6a21fce5d347f48cb1a9810e9b69dc",
       "version_major": 2,
       "version_minor": 0
      },
      "text/plain": [
       "Summarize dataset:   0%|          | 0/5 [00:00<?, ?it/s]"
      ]
     },
     "metadata": {},
     "output_type": "display_data"
    },
    {
     "name": "stderr",
     "output_type": "stream",
     "text": [
      "\n",
      "  0%|                                                                                            | 0/7 [00:00<?, ?it/s]\u001b[A\n",
      "100%|████████████████████████████████████████████████████████████████████████████████████| 7/7 [00:00<00:00, 41.81it/s]\u001b[A\n"
     ]
    },
    {
     "data": {
      "application/vnd.jupyter.widget-view+json": {
       "model_id": "005ddbe6004d48e2b8495d8cae8a8cc4",
       "version_major": 2,
       "version_minor": 0
      },
      "text/plain": [
       "Generate report structure:   0%|          | 0/1 [00:00<?, ?it/s]"
      ]
     },
     "metadata": {},
     "output_type": "display_data"
    },
    {
     "data": {
      "application/vnd.jupyter.widget-view+json": {
       "model_id": "fd522c3566a747c78ae3ae9a782f1209",
       "version_major": 2,
       "version_minor": 0
      },
      "text/plain": [
       "Render HTML:   0%|          | 0/1 [00:00<?, ?it/s]"
      ]
     },
     "metadata": {},
     "output_type": "display_data"
    },
    {
     "data": {
      "application/vnd.jupyter.widget-view+json": {
       "model_id": "e871957a8ce74d99b4093cc1fecf94ef",
       "version_major": 2,
       "version_minor": 0
      },
      "text/plain": [
       "Export report to file:   0%|          | 0/1 [00:00<?, ?it/s]"
      ]
     },
     "metadata": {},
     "output_type": "display_data"
    }
   ],
   "source": [
    "file.to_file(output_file=\"my_file.html\")"
   ]
  },
  {
   "cell_type": "code",
   "execution_count": null,
   "id": "933551b4-bd95-437b-a7a3-1b7aec7f18f8",
   "metadata": {},
   "outputs": [],
   "source": []
  },
  {
   "cell_type": "code",
   "execution_count": null,
   "id": "ae98b70e-18b1-4b23-aad3-a1f61a07f211",
   "metadata": {},
   "outputs": [],
   "source": [
    "data.info()"
   ]
  },
  {
   "cell_type": "code",
   "execution_count": null,
   "id": "f49ccb02-41f5-4042-ba66-21f8b6946dea",
   "metadata": {},
   "outputs": [],
   "source": [
    "data.isnull().sum()"
   ]
  },
  {
   "cell_type": "code",
   "execution_count": null,
   "id": "7e3111ae-02af-4d5b-9313-3e3207e80985",
   "metadata": {},
   "outputs": [],
   "source": [
    "data.isnull().mean()*100"
   ]
  },
  {
   "cell_type": "code",
   "execution_count": null,
   "id": "762b45e7-b222-4852-b53d-d912df76a413",
   "metadata": {},
   "outputs": [],
   "source": [
    "var=[i for i in data.columns if data[i].isnull().mean()<.05 and data[i].isnull().mean()>0]"
   ]
  },
  {
   "cell_type": "code",
   "execution_count": null,
   "id": "9172f877-a20a-4d02-ae23-72d8de27e8a1",
   "metadata": {},
   "outputs": [],
   "source": [
    "var"
   ]
  },
  {
   "cell_type": "code",
   "execution_count": null,
   "id": "ad82859c-fad4-44e0-93ef-a6998f54a83f",
   "metadata": {},
   "outputs": [],
   "source": [
    "len(data[var].dropna())/len(data)"
   ]
  },
  {
   "cell_type": "code",
   "execution_count": null,
   "id": "5ec6c830-c495-4150-8774-edbbe555b38e",
   "metadata": {},
   "outputs": [],
   "source": [
    "new_data=data[var].dropna()"
   ]
  },
  {
   "cell_type": "code",
   "execution_count": null,
   "id": "55f8b4f2-7c63-46d0-9204-39a6372f8906",
   "metadata": {},
   "outputs": [],
   "source": [
    "data.shape, new_data.shape"
   ]
  },
  {
   "cell_type": "code",
   "execution_count": null,
   "id": "845a8f26-3037-4a30-ab4f-4229a8a2ed70",
   "metadata": {},
   "outputs": [],
   "source": [
    "new_data.isnull().sum()"
   ]
  },
  {
   "cell_type": "code",
   "execution_count": null,
   "id": "91e668f1-7db3-4e6b-b45b-007efbd1c854",
   "metadata": {},
   "outputs": [],
   "source": [
    "# visulations for after using cca \n",
    "\n",
    "# dry\n",
    "import matplotlib.pyplot as plt\n",
    "plt.figure(figsize=(18,5))\n",
    "plt.subplot(121)\n",
    "plt.hist(data[\"dxy\"],label=\"before cca\")\n",
    "plt.title(\"before cca \")\n",
    "\n",
    "plt.subplot(121)\n",
    "plt.hist(new_data[\"dxy\"],label=\"after cca \")\n",
    "plt.title(\"after cca \")\n",
    "plt.legend()"
   ]
  },
  {
   "cell_type": "code",
   "execution_count": null,
   "id": "50b08373-55c3-425b-bf63-649bab44f213",
   "metadata": {},
   "outputs": [],
   "source": [
    "plt.figure(figsize=(18,5))\n",
    "plt.subplot(121)\n",
    "plt.hist(data[\"oil\"],label=\"before cca\")\n",
    "plt.title(\"before cca \")\n",
    "\n",
    "plt.subplot(121)\n",
    "plt.hist(new_data[\"oil\"],label=\"after cca \")\n",
    "plt.title(\"after cca \")\n",
    "plt.legend()"
   ]
  },
  {
   "cell_type": "code",
   "execution_count": null,
   "id": "e251d2a8-ccd7-4736-b0aa-d7ce67df5e55",
   "metadata": {},
   "outputs": [],
   "source": []
  }
 ],
 "metadata": {
  "kernelspec": {
   "display_name": "Python 3 (ipykernel)",
   "language": "python",
   "name": "python3"
  },
  "language_info": {
   "codemirror_mode": {
    "name": "ipython",
    "version": 3
   },
   "file_extension": ".py",
   "mimetype": "text/x-python",
   "name": "python",
   "nbconvert_exporter": "python",
   "pygments_lexer": "ipython3",
   "version": "3.12.7"
  }
 },
 "nbformat": 4,
 "nbformat_minor": 5
}
