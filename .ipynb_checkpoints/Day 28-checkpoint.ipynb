{
 "cells": [
  {
   "cell_type": "markdown",
   "id": "a33b1686-1a6d-4d71-9ac6-ae00802d9394",
   "metadata": {},
   "source": [
    "# topic_name =columns transformations "
   ]
  },
  {
   "cell_type": "code",
   "execution_count": 3,
   "id": "472e27e8-e62b-4f3c-ba0a-f5885a66e0bc",
   "metadata": {},
   "outputs": [],
   "source": [
    "import pandas as pd \n",
    "import numpy as np\n",
    "from sklearn.preprocessing import OneHotEncoder,OrdinalEncoder\n",
    "from sklearn.impute import SimpleImputer\n"
   ]
  },
  {
   "cell_type": "code",
   "execution_count": 5,
   "id": "74890019-0823-4c54-9daf-21db99956ae6",
   "metadata": {},
   "outputs": [],
   "source": [
    "data=pd.read_csv(r\"C:\\Users\\mdfir\\Downloads\\covid_toy.csv\")"
   ]
  },
  {
   "cell_type": "code",
   "execution_count": 7,
   "id": "a8d459ce-f813-40ef-bc9b-bbc4fa5c7bc0",
   "metadata": {},
   "outputs": [
    {
     "data": {
      "text/html": [
       "<div>\n",
       "<style scoped>\n",
       "    .dataframe tbody tr th:only-of-type {\n",
       "        vertical-align: middle;\n",
       "    }\n",
       "\n",
       "    .dataframe tbody tr th {\n",
       "        vertical-align: top;\n",
       "    }\n",
       "\n",
       "    .dataframe thead th {\n",
       "        text-align: right;\n",
       "    }\n",
       "</style>\n",
       "<table border=\"1\" class=\"dataframe\">\n",
       "  <thead>\n",
       "    <tr style=\"text-align: right;\">\n",
       "      <th></th>\n",
       "      <th>age</th>\n",
       "      <th>gender</th>\n",
       "      <th>fever</th>\n",
       "      <th>cough</th>\n",
       "      <th>city</th>\n",
       "      <th>has_covid</th>\n",
       "    </tr>\n",
       "  </thead>\n",
       "  <tbody>\n",
       "    <tr>\n",
       "      <th>0</th>\n",
       "      <td>60</td>\n",
       "      <td>Male</td>\n",
       "      <td>103.0</td>\n",
       "      <td>Mild</td>\n",
       "      <td>Kolkata</td>\n",
       "      <td>No</td>\n",
       "    </tr>\n",
       "    <tr>\n",
       "      <th>1</th>\n",
       "      <td>27</td>\n",
       "      <td>Male</td>\n",
       "      <td>100.0</td>\n",
       "      <td>Mild</td>\n",
       "      <td>Delhi</td>\n",
       "      <td>Yes</td>\n",
       "    </tr>\n",
       "    <tr>\n",
       "      <th>2</th>\n",
       "      <td>42</td>\n",
       "      <td>Male</td>\n",
       "      <td>101.0</td>\n",
       "      <td>Mild</td>\n",
       "      <td>Delhi</td>\n",
       "      <td>No</td>\n",
       "    </tr>\n",
       "    <tr>\n",
       "      <th>3</th>\n",
       "      <td>31</td>\n",
       "      <td>Female</td>\n",
       "      <td>98.0</td>\n",
       "      <td>Mild</td>\n",
       "      <td>Kolkata</td>\n",
       "      <td>No</td>\n",
       "    </tr>\n",
       "    <tr>\n",
       "      <th>4</th>\n",
       "      <td>65</td>\n",
       "      <td>Female</td>\n",
       "      <td>101.0</td>\n",
       "      <td>Mild</td>\n",
       "      <td>Mumbai</td>\n",
       "      <td>No</td>\n",
       "    </tr>\n",
       "  </tbody>\n",
       "</table>\n",
       "</div>"
      ],
      "text/plain": [
       "   age  gender  fever cough     city has_covid\n",
       "0   60    Male  103.0  Mild  Kolkata        No\n",
       "1   27    Male  100.0  Mild    Delhi       Yes\n",
       "2   42    Male  101.0  Mild    Delhi        No\n",
       "3   31  Female   98.0  Mild  Kolkata        No\n",
       "4   65  Female  101.0  Mild   Mumbai        No"
      ]
     },
     "execution_count": 7,
     "metadata": {},
     "output_type": "execute_result"
    }
   ],
   "source": [
    "data.head()"
   ]
  },
  {
   "cell_type": "code",
   "execution_count": 99,
   "id": "a6eb583c-771e-44fd-968e-ed27bdde42bf",
   "metadata": {},
   "outputs": [
    {
     "data": {
      "text/plain": [
       "city\n",
       "Kolkata      32\n",
       "Bangalore    30\n",
       "Delhi        22\n",
       "Mumbai       16\n",
       "Name: count, dtype: int64"
      ]
     },
     "execution_count": 99,
     "metadata": {},
     "output_type": "execute_result"
    }
   ],
   "source": [
    "data[\"city\"].value_counts()"
   ]
  },
  {
   "cell_type": "code",
   "execution_count": 9,
   "id": "7086e154-8919-4cd4-ba9e-e96199b3e068",
   "metadata": {},
   "outputs": [],
   "source": [
    "from sklearn .model_selection import train_test_split"
   ]
  },
  {
   "cell_type": "code",
   "execution_count": 115,
   "id": "7592b44e-e66d-4506-892d-6e0fae181535",
   "metadata": {},
   "outputs": [],
   "source": [
    "x=data[[\"age\",\"gender\",\"fever\",\"cough\",\"city\"]]\n",
    "y=data[\"has_covid\"]"
   ]
  },
  {
   "cell_type": "code",
   "execution_count": 117,
   "id": "7bdbe8ee-35b7-4aab-ad8f-610e4f54bae0",
   "metadata": {},
   "outputs": [],
   "source": [
    "x_train,x_test,y_train,y_test=train_test_split(x,y,test_size=.20,random_state=12)"
   ]
  },
  {
   "cell_type": "markdown",
   "id": "ca92162e-0b2f-45c8-9e46-abcff42f5608",
   "metadata": {},
   "source": [
    "# simpleimputer use in fever couluns"
   ]
  },
  {
   "cell_type": "code",
   "execution_count": 120,
   "id": "f000546d-ccc1-4157-8845-6dd972f34977",
   "metadata": {},
   "outputs": [],
   "source": [
    "s=SimpleImputer()"
   ]
  },
  {
   "cell_type": "code",
   "execution_count": 122,
   "id": "fea740b0-ad9d-4918-8d53-d65a3513d3d9",
   "metadata": {},
   "outputs": [],
   "source": [
    "x_train_sim=s.fit_transform(x_train[[\"fever\"]])"
   ]
  },
  {
   "cell_type": "code",
   "execution_count": 124,
   "id": "c5ebf737-487a-47d7-bcde-e014c8ca0713",
   "metadata": {},
   "outputs": [],
   "source": [
    "x_test_sim=s.transform(x_test[[\"fever\"]])"
   ]
  },
  {
   "cell_type": "code",
   "execution_count": 126,
   "id": "654f7ef5-9749-49fe-bdcd-6d898157399a",
   "metadata": {},
   "outputs": [
    {
     "data": {
      "text/plain": [
       "(80, 1)"
      ]
     },
     "execution_count": 126,
     "metadata": {},
     "output_type": "execute_result"
    }
   ],
   "source": [
    "x_train_sim.shape"
   ]
  },
  {
   "cell_type": "markdown",
   "id": "3a7e01d1-1f9b-442b-a2ef-5cdd5c8eab98",
   "metadata": {},
   "source": [
    "# ordinal encoder use in cough"
   ]
  },
  {
   "cell_type": "code",
   "execution_count": 129,
   "id": "50d1f6b8-6054-4943-a8c3-f882b4607539",
   "metadata": {},
   "outputs": [],
   "source": [
    "o=OrdinalEncoder(categories=[[\"Mild\",\"Strong\"]])"
   ]
  },
  {
   "cell_type": "code",
   "execution_count": 131,
   "id": "e8602c70-d990-4a66-93c8-173a37fe9f37",
   "metadata": {},
   "outputs": [],
   "source": [
    "x_train_o=o.fit_transform(x_train[[\"cough\"]])"
   ]
  },
  {
   "cell_type": "code",
   "execution_count": 133,
   "id": "a6438a9f-3a1f-46a8-8ba7-b9701774ac6d",
   "metadata": {},
   "outputs": [],
   "source": [
    "x_test_o=o.fit(x_test[[\"cough\"]])"
   ]
  },
  {
   "cell_type": "code",
   "execution_count": 135,
   "id": "4b9892ea-949b-4751-bbdd-6eb695ee96db",
   "metadata": {},
   "outputs": [
    {
     "data": {
      "text/plain": [
       "(80, 1)"
      ]
     },
     "execution_count": 135,
     "metadata": {},
     "output_type": "execute_result"
    }
   ],
   "source": [
    "x_train_o.shape"
   ]
  },
  {
   "cell_type": "markdown",
   "id": "d5f27de0-4e0d-4542-80ee-edf31f71a663",
   "metadata": {},
   "source": [
    "# OneHotEncoder"
   ]
  },
  {
   "cell_type": "code",
   "execution_count": 138,
   "id": "79ac8d3a-4816-4641-b25d-d99961d3b9cd",
   "metadata": {},
   "outputs": [],
   "source": [
    "hot=OneHotEncoder(drop=\"first\",sparse_output=False,dtype=np.int32)"
   ]
  },
  {
   "cell_type": "code",
   "execution_count": 140,
   "id": "a1018309-3b78-4819-a3f5-84d129178102",
   "metadata": {},
   "outputs": [],
   "source": [
    "x_train_hot=hot.fit_transform(x_train[[\"gender\",\"city\"]])"
   ]
  },
  {
   "cell_type": "code",
   "execution_count": 142,
   "id": "e6a8de43-855d-41da-a26c-0d3abae4a4b5",
   "metadata": {},
   "outputs": [],
   "source": [
    "x_test_hot=hot.transform(x_test[[\"gender\",\"city\"]])"
   ]
  },
  {
   "cell_type": "code",
   "execution_count": 144,
   "id": "a8094bff-4305-485d-b72f-08dd7d77fd3f",
   "metadata": {},
   "outputs": [
    {
     "data": {
      "text/plain": [
       "(80, 4)"
      ]
     },
     "execution_count": 144,
     "metadata": {},
     "output_type": "execute_result"
    }
   ],
   "source": [
    "x_train_hot.shape"
   ]
  },
  {
   "cell_type": "markdown",
   "id": "9bcfb79e-2f60-43f6-b4e5-3b2c8ec4fb4e",
   "metadata": {},
   "source": [
    "# drop columns and add the all columns "
   ]
  },
  {
   "cell_type": "code",
   "execution_count": 147,
   "id": "e5bb7a38-cb29-4373-901e-8a1fce7612ea",
   "metadata": {},
   "outputs": [],
   "source": [
    "x_train_age=x_train.drop(columns=[\"gender\",\"fever\",\"cough\",\"city\"]).values\n",
    "x_test_age=x_test.drop(columns=[\"gender\",\"fever\",\"cough\",\"city\"]).values"
   ]
  },
  {
   "cell_type": "code",
   "execution_count": 149,
   "id": "c06d2f99-b894-41e1-829f-773f3c519233",
   "metadata": {},
   "outputs": [
    {
     "data": {
      "text/plain": [
       "(80, 1)"
      ]
     },
     "execution_count": 149,
     "metadata": {},
     "output_type": "execute_result"
    }
   ],
   "source": [
    "x_train_age.shape"
   ]
  },
  {
   "cell_type": "markdown",
   "id": "36acb90f-1e11-4ac5-a6df-9458b343f872",
   "metadata": {},
   "source": [
    "# add all columns (np.concatenate)"
   ]
  },
  {
   "cell_type": "code",
   "execution_count": 152,
   "id": "f6df0b18-d754-4f15-bf44-4d422cc7e06a",
   "metadata": {},
   "outputs": [],
   "source": [
    "data_new_x_train=np.concatenate((x_train_sim,x_train_o,x_train_hot,x_train_age),axis=1)"
   ]
  },
  {
   "cell_type": "code",
   "execution_count": 154,
   "id": "8a311bf3-bcf6-42f3-a802-cc60f4f16261",
   "metadata": {},
   "outputs": [
    {
     "data": {
      "text/plain": [
       "(80, 7)"
      ]
     },
     "execution_count": 154,
     "metadata": {},
     "output_type": "execute_result"
    }
   ],
   "source": [
    "data_new_x_train.shape"
   ]
  },
  {
   "cell_type": "code",
   "execution_count": 160,
   "id": "ddde3340-241e-494c-ae1f-0ecea086dfde",
   "metadata": {},
   "outputs": [],
   "source": [
    "x_train_scale=pd.DataFrame(data_new_x_train)"
   ]
  },
  {
   "cell_type": "code",
   "execution_count": 170,
   "id": "213b36c3-c2cf-43ad-88ff-fc07be8e5f69",
   "metadata": {},
   "outputs": [
    {
     "data": {
      "text/html": [
       "<div>\n",
       "<style scoped>\n",
       "    .dataframe tbody tr th:only-of-type {\n",
       "        vertical-align: middle;\n",
       "    }\n",
       "\n",
       "    .dataframe tbody tr th {\n",
       "        vertical-align: top;\n",
       "    }\n",
       "\n",
       "    .dataframe thead th {\n",
       "        text-align: right;\n",
       "    }\n",
       "</style>\n",
       "<table border=\"1\" class=\"dataframe\">\n",
       "  <thead>\n",
       "    <tr style=\"text-align: right;\">\n",
       "      <th></th>\n",
       "      <th>age</th>\n",
       "      <th>gender</th>\n",
       "      <th>fever</th>\n",
       "      <th>cough</th>\n",
       "      <th>city</th>\n",
       "    </tr>\n",
       "  </thead>\n",
       "  <tbody>\n",
       "    <tr>\n",
       "      <th>83</th>\n",
       "      <td>17</td>\n",
       "      <td>Female</td>\n",
       "      <td>104.0</td>\n",
       "      <td>Mild</td>\n",
       "      <td>Kolkata</td>\n",
       "    </tr>\n",
       "    <tr>\n",
       "      <th>55</th>\n",
       "      <td>81</td>\n",
       "      <td>Female</td>\n",
       "      <td>101.0</td>\n",
       "      <td>Mild</td>\n",
       "      <td>Mumbai</td>\n",
       "    </tr>\n",
       "    <tr>\n",
       "      <th>26</th>\n",
       "      <td>19</td>\n",
       "      <td>Female</td>\n",
       "      <td>100.0</td>\n",
       "      <td>Mild</td>\n",
       "      <td>Kolkata</td>\n",
       "    </tr>\n",
       "    <tr>\n",
       "      <th>54</th>\n",
       "      <td>60</td>\n",
       "      <td>Female</td>\n",
       "      <td>99.0</td>\n",
       "      <td>Mild</td>\n",
       "      <td>Mumbai</td>\n",
       "    </tr>\n",
       "    <tr>\n",
       "      <th>19</th>\n",
       "      <td>42</td>\n",
       "      <td>Female</td>\n",
       "      <td>NaN</td>\n",
       "      <td>Strong</td>\n",
       "      <td>Bangalore</td>\n",
       "    </tr>\n",
       "  </tbody>\n",
       "</table>\n",
       "</div>"
      ],
      "text/plain": [
       "    age  gender  fever   cough       city\n",
       "83   17  Female  104.0    Mild    Kolkata\n",
       "55   81  Female  101.0    Mild     Mumbai\n",
       "26   19  Female  100.0    Mild    Kolkata\n",
       "54   60  Female   99.0    Mild     Mumbai\n",
       "19   42  Female    NaN  Strong  Bangalore"
      ]
     },
     "execution_count": 170,
     "metadata": {},
     "output_type": "execute_result"
    }
   ],
   "source": [
    "x_train.head()"
   ]
  },
  {
   "cell_type": "markdown",
   "id": "fbfc188a-5362-43a0-b7a2-5d3cd88597de",
   "metadata": {},
   "source": [
    "# columns transformations "
   ]
  },
  {
   "cell_type": "code",
   "execution_count": 166,
   "id": "e3f2f72e-31e2-4b2b-ae5f-82d79d979117",
   "metadata": {},
   "outputs": [],
   "source": [
    "from sklearn.compose import ColumnTransformer"
   ]
  },
  {
   "cell_type": "code",
   "execution_count": 180,
   "id": "a238fabf-39f5-460e-8610-a19d56cb8824",
   "metadata": {},
   "outputs": [],
   "source": [
    "t=ColumnTransformer(transformers=[\n",
    "  (\"first\",SimpleImputer(),[\"fever\"]),\n",
    "  (\"second\",OrdinalEncoder(categories=[[\"Mild\",\"Strong\"]]),[\"cough\"]),\n",
    "  (\"third\",OneHotEncoder(sparse_output=False,drop='first'),[\"city\",\"gender\"])],remainder='passthrough')"
   ]
  },
  {
   "cell_type": "code",
   "execution_count": 185,
   "id": "331359f8-8518-4d72-9497-c81e1b3db8da",
   "metadata": {},
   "outputs": [
    {
     "data": {
      "text/plain": [
       "(80, 7)"
      ]
     },
     "execution_count": 185,
     "metadata": {},
     "output_type": "execute_result"
    }
   ],
   "source": [
    "t.fit_transform(x_train).shape"
   ]
  },
  {
   "cell_type": "code",
   "execution_count": null,
   "id": "1d6f2c14-ec1f-4eb7-bc8a-a717cd104c16",
   "metadata": {},
   "outputs": [],
   "source": []
  }
 ],
 "metadata": {
  "kernelspec": {
   "display_name": "Python 3 (ipykernel)",
   "language": "python",
   "name": "python3"
  },
  "language_info": {
   "codemirror_mode": {
    "name": "ipython",
    "version": 3
   },
   "file_extension": ".py",
   "mimetype": "text/x-python",
   "name": "python",
   "nbconvert_exporter": "python",
   "pygments_lexer": "ipython3",
   "version": "3.12.7"
  }
 },
 "nbformat": 4,
 "nbformat_minor": 5
}
